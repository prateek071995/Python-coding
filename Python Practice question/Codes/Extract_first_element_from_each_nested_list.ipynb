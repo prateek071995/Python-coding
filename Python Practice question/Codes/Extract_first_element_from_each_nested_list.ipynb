{
  "nbformat": 4,
  "nbformat_minor": 0,
  "metadata": {
    "colab": {
      "provenance": []
    },
    "kernelspec": {
      "name": "python3",
      "display_name": "Python 3"
    },
    "language_info": {
      "name": "python"
    }
  },
  "cells": [
    {
      "cell_type": "markdown",
      "source": [
        "**Write a code to get the first element from each nested list of a list**\n",
        "\n",
        "Input:\n",
        "\n",
        "[[15, 78, 4],['C#',80,7],['Go','Rust','C++'],['Python',12]]\n",
        "\n",
        "\n",
        "Output:\n",
        "\n",
        "[15, 'C#', 'Go', 'Python']"
      ],
      "metadata": {
        "id": "s_cT3wTeyKtX"
      }
    },
    {
      "cell_type": "code",
      "source": [
        "input = [[15, 78, 4],['C#',80,7],['Go','Rust','C++'],['Python',12]]\n",
        "\n",
        "output = []\n",
        "\n",
        "for i in range(len(input)):\n",
        "  output.append(input[i][0])\n",
        "\n",
        "output"
      ],
      "metadata": {
        "colab": {
          "base_uri": "https://localhost:8080/"
        },
        "id": "lxL54JgiyL6G",
        "outputId": "ab5c8e1a-88a9-483f-c00a-215e55695314"
      },
      "execution_count": 3,
      "outputs": [
        {
          "output_type": "execute_result",
          "data": {
            "text/plain": [
              "[15, 'C#', 'Go', 'Python']"
            ]
          },
          "metadata": {},
          "execution_count": 3
        }
      ]
    }
  ]
}